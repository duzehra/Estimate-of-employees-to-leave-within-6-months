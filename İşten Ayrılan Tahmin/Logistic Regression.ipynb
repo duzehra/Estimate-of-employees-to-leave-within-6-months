{
 "cells": [
  {
   "cell_type": "code",
   "execution_count": 1,
   "id": "b5298052-f417-4d4f-85eb-49e2bb22ffdc",
   "metadata": {},
   "outputs": [],
   "source": [
    "import pandas as pd\n",
    "import seaborn as sns\n",
    "import numpy as np"
   ]
  },
  {
   "cell_type": "code",
   "execution_count": 2,
   "id": "565068fb-c797-43f8-bd83-153491722939",
   "metadata": {},
   "outputs": [],
   "source": [
    "df = pd.read_excel(\"C:/Users/Zehra/Desktop/powerbi/İnsan Kaynakları/AyrılanDatası.xlsx\")"
   ]
  },
  {
   "cell_type": "code",
   "execution_count": 18,
   "id": "e590b0b6-1c7a-4562-8e29-8007fece80bc",
   "metadata": {},
   "outputs": [
    {
     "data": {
      "text/html": [
       "<div>\n",
       "<style scoped>\n",
       "    .dataframe tbody tr th:only-of-type {\n",
       "        vertical-align: middle;\n",
       "    }\n",
       "\n",
       "    .dataframe tbody tr th {\n",
       "        vertical-align: top;\n",
       "    }\n",
       "\n",
       "    .dataframe thead th {\n",
       "        text-align: right;\n",
       "    }\n",
       "</style>\n",
       "<table border=\"1\" class=\"dataframe\">\n",
       "  <thead>\n",
       "    <tr style=\"text-align: right;\">\n",
       "      <th></th>\n",
       "      <th>Job</th>\n",
       "      <th>Joining Quarter</th>\n",
       "      <th>Location</th>\n",
       "      <th>Gender</th>\n",
       "      <th>Education</th>\n",
       "      <th>Age</th>\n",
       "      <th>&lt;6 months</th>\n",
       "      <th>Personel_ID</th>\n",
       "    </tr>\n",
       "  </thead>\n",
       "  <tbody>\n",
       "    <tr>\n",
       "      <th>0</th>\n",
       "      <td>MM</td>\n",
       "      <td>Q3</td>\n",
       "      <td>ISTANBUL</td>\n",
       "      <td>Male</td>\n",
       "      <td>High School</td>\n",
       "      <td>20-30</td>\n",
       "      <td>NO</td>\n",
       "      <td>1</td>\n",
       "    </tr>\n",
       "    <tr>\n",
       "      <th>1</th>\n",
       "      <td>SG</td>\n",
       "      <td>Q4</td>\n",
       "      <td>ISTANBUL</td>\n",
       "      <td>Male</td>\n",
       "      <td>Elementary</td>\n",
       "      <td>20-30</td>\n",
       "      <td>NO</td>\n",
       "      <td>2</td>\n",
       "    </tr>\n",
       "    <tr>\n",
       "      <th>2</th>\n",
       "      <td>SG</td>\n",
       "      <td>Q2</td>\n",
       "      <td>ISTANBUL</td>\n",
       "      <td>Male</td>\n",
       "      <td>Elementary</td>\n",
       "      <td>20-30</td>\n",
       "      <td>NO</td>\n",
       "      <td>3</td>\n",
       "    </tr>\n",
       "    <tr>\n",
       "      <th>3</th>\n",
       "      <td>SG</td>\n",
       "      <td>Q2</td>\n",
       "      <td>ISTANBUL</td>\n",
       "      <td>Female</td>\n",
       "      <td>Elementary</td>\n",
       "      <td>20-30</td>\n",
       "      <td>NO</td>\n",
       "      <td>4</td>\n",
       "    </tr>\n",
       "    <tr>\n",
       "      <th>4</th>\n",
       "      <td>SG</td>\n",
       "      <td>Q3</td>\n",
       "      <td>ISTANBUL</td>\n",
       "      <td>Male</td>\n",
       "      <td>Elementary</td>\n",
       "      <td>&lt;20</td>\n",
       "      <td>NO</td>\n",
       "      <td>5</td>\n",
       "    </tr>\n",
       "  </tbody>\n",
       "</table>\n",
       "</div>"
      ],
      "text/plain": [
       "  Job Joining Quarter  Location  Gender    Education    Age <6 months  \\\n",
       "0  MM              Q3  ISTANBUL    Male  High School  20-30        NO   \n",
       "1  SG              Q4  ISTANBUL    Male   Elementary  20-30        NO   \n",
       "2  SG              Q2  ISTANBUL    Male   Elementary  20-30        NO   \n",
       "3  SG              Q2  ISTANBUL  Female   Elementary  20-30        NO   \n",
       "4  SG              Q3  ISTANBUL    Male   Elementary    <20        NO   \n",
       "\n",
       "   Personel_ID  \n",
       "0            1  \n",
       "1            2  \n",
       "2            3  \n",
       "3            4  \n",
       "4            5  "
      ]
     },
     "execution_count": 18,
     "metadata": {},
     "output_type": "execute_result"
    }
   ],
   "source": [
    "df.head(5)"
   ]
  },
  {
   "cell_type": "code",
   "execution_count": 20,
   "id": "1af72803-6a81-448a-8dfc-cd36e96093c2",
   "metadata": {},
   "outputs": [],
   "source": [
    "df=df.rename(columns = {'Joining Quarter':'Joining_Quarter'})\n",
    "df=df.rename(columns = {'<6 months':'6_months'})"
   ]
  },
  {
   "cell_type": "code",
   "execution_count": 57,
   "id": "059cdbaa-f39f-45b7-999b-72895560aaaf",
   "metadata": {},
   "outputs": [
    {
     "data": {
      "text/plain": [
       "(2025, 8)"
      ]
     },
     "execution_count": 57,
     "metadata": {},
     "output_type": "execute_result"
    }
   ],
   "source": [
    "df.shape"
   ]
  },
  {
   "cell_type": "code",
   "execution_count": 22,
   "id": "e75e62b9-b389-4779-b508-0ae587c64a9f",
   "metadata": {},
   "outputs": [],
   "source": [
    "df[\"Gender\"] = df[\"Gender\"].replace(\"Male\", 1)\n",
    "df[\"Gender\"] = df[\"Gender\"].replace(\"Female\", 2)"
   ]
  },
  {
   "cell_type": "code",
   "execution_count": 30,
   "id": "ccba70b2-5c5f-4f46-89ee-b09e57717aa3",
   "metadata": {},
   "outputs": [],
   "source": [
    "df[\"6_months\"] = df[\"6_months\"].replace(\"YES\", 1)\n",
    "df[\"6_months\"] = df[\"6_months\"].replace(\"NO\", 2)"
   ]
  },
  {
   "cell_type": "code",
   "execution_count": 24,
   "id": "50a833e2-cf71-4770-81f8-a2ecaecd27de",
   "metadata": {},
   "outputs": [],
   "source": [
    "df[\"Joining_Quarter\"] = df[\"Joining_Quarter\"].replace(\"Q1\", 1)\n",
    "df[\"Joining_Quarter\"] = df[\"Joining_Quarter\"].replace(\"Q2\", 2)\n",
    "df[\"Joining_Quarter\"] = df[\"Joining_Quarter\"].replace(\"Q3\", 1)\n",
    "df[\"Joining_Quarter\"] = df[\"Joining_Quarter\"].replace(\"Q4\", 2)"
   ]
  },
  {
   "cell_type": "code",
   "execution_count": 25,
   "id": "cc725dff-9fea-400e-b4ee-3d1be21a5963",
   "metadata": {},
   "outputs": [],
   "source": [
    "df[\"Job\"] = df[\"Job\"].replace(\"MM\", 1)\n",
    "df[\"Job\"] = df[\"Job\"].replace(\"SG\", 2)\n",
    "df[\"Job\"] = df[\"Job\"].replace(\"GD\", 3)\n",
    "df[\"Job\"] = df[\"Job\"].replace(\"PART-SG\", 4)\n",
    "df[\"Job\"] = df[\"Job\"].replace(\"MMY\", 5)\n",
    "df[\"Job\"] = df[\"Job\"].replace(\"SUP\", 6)"
   ]
  },
  {
   "cell_type": "code",
   "execution_count": 26,
   "id": "4628740c-5364-4279-8082-9e0f167562ae",
   "metadata": {},
   "outputs": [],
   "source": [
    "df[\"Location\"] = df[\"Location\"].replace(\"ISTANBUL\", 1)\n",
    "df[\"Location\"] = df[\"Location\"].replace(\"Others\", 2)"
   ]
  },
  {
   "cell_type": "code",
   "execution_count": 27,
   "id": "8d855f3b-eb77-4bb6-9ef3-0e3f89c921e5",
   "metadata": {},
   "outputs": [],
   "source": [
    "df[\"Education\"] = df[\"Education\"].replace(\"2-Year University\", 1)\n",
    "df[\"Education\"] = df[\"Education\"].replace(\"4-Year University\", 2)\n",
    "df[\"Education\"] = df[\"Education\"].replace(\"Elementary\", 3)\n",
    "df[\"Education\"] = df[\"Education\"].replace(\"High School\", 4)"
   ]
  },
  {
   "cell_type": "code",
   "execution_count": 28,
   "id": "0c4b5dc6-43e1-4157-bc1b-193d744bb914",
   "metadata": {},
   "outputs": [],
   "source": [
    "df[\"Age\"] = df[\"Age\"].replace(\"<20\", 1)\n",
    "df[\"Age\"] = df[\"Age\"].replace(\"20-30\", 2)\n",
    "df[\"Age\"] = df[\"Age\"].replace(\"30-40\", 3)\n",
    "df[\"Age\"] = df[\"Age\"].replace(\">40\", 4)"
   ]
  },
  {
   "cell_type": "code",
   "execution_count": 31,
   "id": "dac14a6f-c2eb-417a-aae7-a401baf8e0f3",
   "metadata": {},
   "outputs": [
    {
     "data": {
      "text/html": [
       "<div>\n",
       "<style scoped>\n",
       "    .dataframe tbody tr th:only-of-type {\n",
       "        vertical-align: middle;\n",
       "    }\n",
       "\n",
       "    .dataframe tbody tr th {\n",
       "        vertical-align: top;\n",
       "    }\n",
       "\n",
       "    .dataframe thead th {\n",
       "        text-align: right;\n",
       "    }\n",
       "</style>\n",
       "<table border=\"1\" class=\"dataframe\">\n",
       "  <thead>\n",
       "    <tr style=\"text-align: right;\">\n",
       "      <th></th>\n",
       "      <th>Job</th>\n",
       "      <th>Joining_Quarter</th>\n",
       "      <th>Location</th>\n",
       "      <th>Gender</th>\n",
       "      <th>Education</th>\n",
       "      <th>Age</th>\n",
       "      <th>6_months</th>\n",
       "      <th>Personel_ID</th>\n",
       "    </tr>\n",
       "  </thead>\n",
       "  <tbody>\n",
       "    <tr>\n",
       "      <th>0</th>\n",
       "      <td>1</td>\n",
       "      <td>1</td>\n",
       "      <td>1</td>\n",
       "      <td>1</td>\n",
       "      <td>4</td>\n",
       "      <td>2</td>\n",
       "      <td>2</td>\n",
       "      <td>1</td>\n",
       "    </tr>\n",
       "    <tr>\n",
       "      <th>1</th>\n",
       "      <td>2</td>\n",
       "      <td>2</td>\n",
       "      <td>1</td>\n",
       "      <td>1</td>\n",
       "      <td>3</td>\n",
       "      <td>2</td>\n",
       "      <td>2</td>\n",
       "      <td>2</td>\n",
       "    </tr>\n",
       "    <tr>\n",
       "      <th>2</th>\n",
       "      <td>2</td>\n",
       "      <td>2</td>\n",
       "      <td>1</td>\n",
       "      <td>1</td>\n",
       "      <td>3</td>\n",
       "      <td>2</td>\n",
       "      <td>2</td>\n",
       "      <td>3</td>\n",
       "    </tr>\n",
       "    <tr>\n",
       "      <th>3</th>\n",
       "      <td>2</td>\n",
       "      <td>2</td>\n",
       "      <td>1</td>\n",
       "      <td>2</td>\n",
       "      <td>3</td>\n",
       "      <td>2</td>\n",
       "      <td>2</td>\n",
       "      <td>4</td>\n",
       "    </tr>\n",
       "    <tr>\n",
       "      <th>4</th>\n",
       "      <td>2</td>\n",
       "      <td>1</td>\n",
       "      <td>1</td>\n",
       "      <td>1</td>\n",
       "      <td>3</td>\n",
       "      <td>1</td>\n",
       "      <td>2</td>\n",
       "      <td>5</td>\n",
       "    </tr>\n",
       "  </tbody>\n",
       "</table>\n",
       "</div>"
      ],
      "text/plain": [
       "   Job  Joining_Quarter  Location  Gender Education  Age  6_months  \\\n",
       "0    1                1         1       1         4    2         2   \n",
       "1    2                2         1       1         3    2         2   \n",
       "2    2                2         1       1         3    2         2   \n",
       "3    2                2         1       2         3    2         2   \n",
       "4    2                1         1       1         3    1         2   \n",
       "\n",
       "   Personel_ID  \n",
       "0            1  \n",
       "1            2  \n",
       "2            3  \n",
       "3            4  \n",
       "4            5  "
      ]
     },
     "execution_count": 31,
     "metadata": {},
     "output_type": "execute_result"
    }
   ],
   "source": [
    "df.head()"
   ]
  },
  {
   "cell_type": "code",
   "execution_count": 32,
   "id": "05fef57a-4999-4a1a-b101-2e0e97f88c91",
   "metadata": {},
   "outputs": [
    {
     "data": {
      "text/plain": [
       "0"
      ]
     },
     "execution_count": 32,
     "metadata": {},
     "output_type": "execute_result"
    }
   ],
   "source": [
    "df.isnull().any().sum()"
   ]
  },
  {
   "cell_type": "code",
   "execution_count": 5,
   "id": "74f5355f-bb32-4d98-8fb9-f1945e1933fe",
   "metadata": {
    "tags": []
   },
   "outputs": [
    {
     "name": "stdout",
     "output_type": "stream",
     "text": [
      "<class 'pandas.core.frame.DataFrame'>\n",
      "RangeIndex: 2025 entries, 0 to 2024\n",
      "Data columns (total 8 columns):\n",
      " #   Column           Non-Null Count  Dtype \n",
      "---  ------           --------------  ----- \n",
      " 0   Job              2025 non-null   object\n",
      " 1   Joining Quarter  2025 non-null   object\n",
      " 2   Location         2025 non-null   object\n",
      " 3   Gender           2025 non-null   object\n",
      " 4   Education        2025 non-null   object\n",
      " 5   Age              2025 non-null   object\n",
      " 6   <6 months        2025 non-null   object\n",
      " 7   Personel_ID      2025 non-null   int64 \n",
      "dtypes: int64(1), object(7)\n",
      "memory usage: 126.7+ KB\n"
     ]
    }
   ],
   "source": [
    "df.info()"
   ]
  },
  {
   "cell_type": "code",
   "execution_count": 6,
   "id": "2ebbce0e-6286-480b-953a-3975a43cd349",
   "metadata": {},
   "outputs": [
    {
     "data": {
      "text/plain": [
       "(2025, 8)"
      ]
     },
     "execution_count": 6,
     "metadata": {},
     "output_type": "execute_result"
    }
   ],
   "source": [
    "df.shape"
   ]
  },
  {
   "cell_type": "code",
   "execution_count": 7,
   "id": "6a2e0c05-2675-40f8-bb6e-74a71eb86fa0",
   "metadata": {},
   "outputs": [],
   "source": [
    "kat_df = df.select_dtypes(include = \"object\")"
   ]
  },
  {
   "cell_type": "code",
   "execution_count": 8,
   "id": "3d46f254-2f1d-47bc-a9fc-a4999a5d4725",
   "metadata": {},
   "outputs": [
    {
     "data": {
      "text/plain": [
       "High School          1258\n",
       "2-Year University     392\n",
       "4-Year University     284\n",
       "Elementary             91\n",
       "Name: Education, dtype: int64"
      ]
     },
     "execution_count": 8,
     "metadata": {},
     "output_type": "execute_result"
    }
   ],
   "source": [
    "kat_df[\"Education\"].value_counts()"
   ]
  },
  {
   "cell_type": "code",
   "execution_count": 9,
   "id": "6ecbd768-169b-4a35-9402-d09c5a567923",
   "metadata": {},
   "outputs": [
    {
     "data": {
      "text/plain": [
       "<AxesSubplot:>"
      ]
     },
     "execution_count": 9,
     "metadata": {},
     "output_type": "execute_result"
    },
    {
     "data": {
      "image/png": "[encoded data removed]",
      "text/plain": [
       "<Figure size 432x288 with 1 Axes>"
      ]
     },
     "metadata": {
      "needs_background": "light"
     },
     "output_type": "display_data"
    }
   ],
   "source": [
    "df[\"Education\"].value_counts().plot.barh()"
   ]
  },
  {
   "cell_type": "code",
   "execution_count": 10,
   "id": "76d1741b-bf0c-4c1f-a755-71840d340b4d",
   "metadata": {},
   "outputs": [],
   "source": [
    "from pandas.api.types import CategoricalDtype"
   ]
  },
  {
   "cell_type": "code",
   "execution_count": 11,
   "id": "20c4e12d-2568-4714-9fb0-79c4840e8cd0",
   "metadata": {},
   "outputs": [],
   "source": [
    "df.Education = df.Education.astype(CategoricalDtype(ordered = True))"
   ]
  },
  {
   "cell_type": "code",
   "execution_count": 12,
   "id": "e74bf620-213f-4496-a869-fe43f9fc8040",
   "metadata": {},
   "outputs": [],
   "source": [
    "Education_kategoriler =[\"Elementary\", \"High School\", \"2-Year University\", \"4-Year University\"]"
   ]
  },
  {
   "cell_type": "code",
   "execution_count": 13,
   "id": "6a482450-ea0d-4fc8-8f90-7c69d49d74af",
   "metadata": {},
   "outputs": [],
   "source": [
    "df.Education = df.Education.astype(CategoricalDtype(categories = Education_kategoriler, ordered = True))"
   ]
  },
  {
   "cell_type": "code",
   "execution_count": 14,
   "id": "eb245ce6-7f48-4ad8-8341-c3bfbcd93bcc",
   "metadata": {},
   "outputs": [
    {
     "data": {
      "text/plain": [
       "0    High School\n",
       "Name: Education, dtype: category\n",
       "Categories (4, object): ['Elementary' < 'High School' < '2-Year University' < '4-Year University']"
      ]
     },
     "execution_count": 14,
     "metadata": {},
     "output_type": "execute_result"
    }
   ],
   "source": [
    "df.Education.head(1)"
   ]
  },
  {
   "cell_type": "code",
   "execution_count": 15,
   "id": "b08022ad-9a82-432c-816d-489deb2d42ae",
   "metadata": {},
   "outputs": [
    {
     "data": {
      "image/png": "[encoded data removed]",
      "text/plain": [
       "<Figure size 432x288 with 1 Axes>"
      ]
     },
     "metadata": {
      "needs_background": "light"
     },
     "output_type": "display_data"
    }
   ],
   "source": [
    "(df[\"Education\"]\n",
    " .value_counts()\n",
    " .plot.barh()\n",
    " .set_title(\"Education Değişkeninin Sınıf Frekansları\"));"
   ]
  },
  {
   "cell_type": "code",
   "execution_count": 16,
   "id": "687ba920-8128-4539-aad7-331f3defd372",
   "metadata": {},
   "outputs": [
    {
     "data": {
      "image/png": "[encoded data removed]",
      "text/plain": [
       "<Figure size 432x288 with 1 Axes>"
      ]
     },
     "metadata": {
      "needs_background": "light"
     },
     "output_type": "display_data"
    }
   ],
   "source": [
    "sns.barplot(x = \"Education\", y = df.Education.index, data =df);"
   ]
  },
  {
   "cell_type": "code",
   "execution_count": 74,
   "id": "53b92da1-dadd-42da-a882-0f21cdb3dec6",
   "metadata": {},
   "outputs": [],
   "source": [
    "df = df.drop(\"Personel_ID\", axis=1)"
   ]
  },
  {
   "cell_type": "code",
   "execution_count": 34,
   "id": "befdb2f1-dd46-4dc0-847d-1028fa18afb6",
   "metadata": {},
   "outputs": [
    {
     "data": {
      "text/html": [
       "<div>\n",
       "<style scoped>\n",
       "    .dataframe tbody tr th:only-of-type {\n",
       "        vertical-align: middle;\n",
       "    }\n",
       "\n",
       "    .dataframe tbody tr th {\n",
       "        vertical-align: top;\n",
       "    }\n",
       "\n",
       "    .dataframe thead th {\n",
       "        text-align: right;\n",
       "    }\n",
       "</style>\n",
       "<table border=\"1\" class=\"dataframe\">\n",
       "  <thead>\n",
       "    <tr style=\"text-align: right;\">\n",
       "      <th></th>\n",
       "      <th>Job</th>\n",
       "      <th>Joining_Quarter</th>\n",
       "      <th>Location</th>\n",
       "      <th>Gender</th>\n",
       "      <th>Education</th>\n",
       "      <th>Age</th>\n",
       "      <th>6_months</th>\n",
       "      <th>Personel_ID</th>\n",
       "    </tr>\n",
       "  </thead>\n",
       "  <tbody>\n",
       "    <tr>\n",
       "      <th>0</th>\n",
       "      <td>1</td>\n",
       "      <td>1</td>\n",
       "      <td>1</td>\n",
       "      <td>1</td>\n",
       "      <td>4</td>\n",
       "      <td>2</td>\n",
       "      <td>2</td>\n",
       "      <td>1</td>\n",
       "    </tr>\n",
       "    <tr>\n",
       "      <th>1</th>\n",
       "      <td>2</td>\n",
       "      <td>2</td>\n",
       "      <td>1</td>\n",
       "      <td>1</td>\n",
       "      <td>3</td>\n",
       "      <td>2</td>\n",
       "      <td>2</td>\n",
       "      <td>2</td>\n",
       "    </tr>\n",
       "  </tbody>\n",
       "</table>\n",
       "</div>"
      ],
      "text/plain": [
       "   Job  Joining_Quarter  Location  Gender Education  Age  6_months  \\\n",
       "0    1                1         1       1         4    2         2   \n",
       "1    2                2         1       1         3    2         2   \n",
       "\n",
       "   Personel_ID  \n",
       "0            1  \n",
       "1            2  "
      ]
     },
     "execution_count": 34,
     "metadata": {},
     "output_type": "execute_result"
    }
   ],
   "source": [
    "df.head(2)"
   ]
  },
  {
   "cell_type": "code",
   "execution_count": 40,
   "id": "10354317-bece-4681-b9ed-cb08d5cde9ed",
   "metadata": {},
   "outputs": [],
   "source": [
    "from sklearn import preprocessing\n",
    "from sklearn.metrics import confusion_matrix\n",
    "from sklearn.model_selection import train_test_split\n",
    "from sklearn.linear_model import LogisticRegression"
   ]
  },
  {
   "cell_type": "code",
   "execution_count": 76,
   "id": "525f0e4f-3035-418a-8ef2-f1ac9d621f57",
   "metadata": {},
   "outputs": [],
   "source": [
    "y = df[\"6_months\"]\n",
    "x = df.drop(\"6_months\", axis=1)"
   ]
  },
  {
   "cell_type": "code",
   "execution_count": 77,
   "id": "bdc7e796-0df3-474e-a290-bef64c1d3b57",
   "metadata": {},
   "outputs": [],
   "source": [
    "x_train, x_test, y_train, y_test=train_test_split(x, y, test_size=0.30,random_state=100)"
   ]
  },
  {
   "cell_type": "code",
   "execution_count": 78,
   "id": "21ef9b22-a9e1-4438-9bf9-fbae9ab9ac4f",
   "metadata": {},
   "outputs": [],
   "source": [
    "lg_model=LogisticRegression(max_iter=1000)"
   ]
  },
  {
   "cell_type": "code",
   "execution_count": 79,
   "id": "fbec1e97-bc7f-4ff2-9cf1-577050fdb647",
   "metadata": {},
   "outputs": [
    {
     "data": {
      "text/plain": [
       "LogisticRegression(max_iter=1000)"
      ]
     },
     "execution_count": 79,
     "metadata": {},
     "output_type": "execute_result"
    }
   ],
   "source": [
    "#modeli eğitme\n",
    "lg_model.fit(x_train,y_train)"
   ]
  },
  {
   "cell_type": "code",
   "execution_count": 80,
   "id": "6adda607-a3bf-48bb-a46c-fbbe8a467b1c",
   "metadata": {},
   "outputs": [
    {
     "data": {
      "text/plain": [
       "0.555921052631579"
      ]
     },
     "execution_count": 80,
     "metadata": {},
     "output_type": "execute_result"
    }
   ],
   "source": [
    "lg_model.score(x_test,y_test)"
   ]
  },
  {
   "cell_type": "code",
   "execution_count": 81,
   "id": "4b871bc7-4678-4d13-8134-4a34288cc119",
   "metadata": {},
   "outputs": [
    {
     "data": {
      "text/plain": [
       "0.5998588567395907"
      ]
     },
     "execution_count": 81,
     "metadata": {},
     "output_type": "execute_result"
    }
   ],
   "source": [
    "lg_model.score(x_train,y_train)"
   ]
  },
  {
   "cell_type": "code",
   "execution_count": 82,
   "id": "67f96154-2496-40d4-b14b-04bf3fc9ccb2",
   "metadata": {},
   "outputs": [
    {
     "data": {
      "text/plain": [
       "LogisticRegression(C=0.1, max_iter=1000)"
      ]
     },
     "execution_count": 82,
     "metadata": {},
     "output_type": "execute_result"
    }
   ],
   "source": [
    "lg_model=LogisticRegression(C=0.1, max_iter=1000)\n",
    "lg_model.fit(x_train,y_train)"
   ]
  },
  {
   "cell_type": "code",
   "execution_count": 70,
   "id": "638ff7b1-86dc-41f5-a0cf-44d5b4de3ddd",
   "metadata": {},
   "outputs": [
    {
     "name": "stdout",
     "output_type": "stream",
     "text": [
      "0.5608552631578947\n",
      "0.6012702893436839\n"
     ]
    }
   ],
   "source": [
    "print(lg_model.score(x_test,y_test))\n",
    "print(lg_model.score(x_train,y_train))"
   ]
  },
  {
   "cell_type": "code",
   "execution_count": 84,
   "id": "88d53c9d-27dd-468a-9179-95332158a3b8",
   "metadata": {},
   "outputs": [
    {
     "data": {
      "text/html": [
       "<div>\n",
       "<style scoped>\n",
       "    .dataframe tbody tr th:only-of-type {\n",
       "        vertical-align: middle;\n",
       "    }\n",
       "\n",
       "    .dataframe tbody tr th {\n",
       "        vertical-align: top;\n",
       "    }\n",
       "\n",
       "    .dataframe thead th {\n",
       "        text-align: right;\n",
       "    }\n",
       "</style>\n",
       "<table border=\"1\" class=\"dataframe\">\n",
       "  <thead>\n",
       "    <tr style=\"text-align: right;\">\n",
       "      <th></th>\n",
       "      <th>Job</th>\n",
       "      <th>Joining_Quarter</th>\n",
       "      <th>Location</th>\n",
       "      <th>Gender</th>\n",
       "      <th>Education</th>\n",
       "      <th>Age</th>\n",
       "      <th>6_months</th>\n",
       "    </tr>\n",
       "  </thead>\n",
       "  <tbody>\n",
       "    <tr>\n",
       "      <th>0</th>\n",
       "      <td>1</td>\n",
       "      <td>1</td>\n",
       "      <td>1</td>\n",
       "      <td>1</td>\n",
       "      <td>4</td>\n",
       "      <td>2</td>\n",
       "      <td>2</td>\n",
       "    </tr>\n",
       "    <tr>\n",
       "      <th>1</th>\n",
       "      <td>2</td>\n",
       "      <td>2</td>\n",
       "      <td>1</td>\n",
       "      <td>1</td>\n",
       "      <td>3</td>\n",
       "      <td>2</td>\n",
       "      <td>2</td>\n",
       "    </tr>\n",
       "    <tr>\n",
       "      <th>2</th>\n",
       "      <td>2</td>\n",
       "      <td>2</td>\n",
       "      <td>1</td>\n",
       "      <td>1</td>\n",
       "      <td>3</td>\n",
       "      <td>2</td>\n",
       "      <td>2</td>\n",
       "    </tr>\n",
       "    <tr>\n",
       "      <th>3</th>\n",
       "      <td>2</td>\n",
       "      <td>2</td>\n",
       "      <td>1</td>\n",
       "      <td>2</td>\n",
       "      <td>3</td>\n",
       "      <td>2</td>\n",
       "      <td>2</td>\n",
       "    </tr>\n",
       "    <tr>\n",
       "      <th>4</th>\n",
       "      <td>2</td>\n",
       "      <td>1</td>\n",
       "      <td>1</td>\n",
       "      <td>1</td>\n",
       "      <td>3</td>\n",
       "      <td>1</td>\n",
       "      <td>2</td>\n",
       "    </tr>\n",
       "  </tbody>\n",
       "</table>\n",
       "</div>"
      ],
      "text/plain": [
       "   Job  Joining_Quarter  Location  Gender Education  Age  6_months\n",
       "0    1                1         1       1         4    2         2\n",
       "1    2                2         1       1         3    2         2\n",
       "2    2                2         1       1         3    2         2\n",
       "3    2                2         1       2         3    2         2\n",
       "4    2                1         1       1         3    1         2"
      ]
     },
     "execution_count": 84,
     "metadata": {},
     "output_type": "execute_result"
    }
   ],
   "source": [
    "df.head()"
   ]
  },
  {
   "cell_type": "code",
   "execution_count": 83,
   "id": "508d8aed-d6ea-43b3-a856-02b1656b819a",
   "metadata": {},
   "outputs": [
    {
     "data": {
      "text/plain": [
       "array([[ 29, 219],\n",
       "       [ 48, 312]], dtype=int64)"
      ]
     },
     "execution_count": 83,
     "metadata": {},
     "output_type": "execute_result"
    }
   ],
   "source": [
    "tahmin = lg_model.predict(x_test)\n",
    "confusion_matrix(y_test,tahmin)"
   ]
  },
  {
   "cell_type": "code",
   "execution_count": 87,
   "id": "53a210ff-1423-4921-9a3a-608dc2dd1307",
   "metadata": {},
   "outputs": [],
   "source": [
    "#deneme\n",
    "yeni_veri=np.array([[1,1,1,1,4,2]])"
   ]
  },
  {
   "cell_type": "code",
   "execution_count": 88,
   "id": "360c9e11-222f-4add-984c-eb1f4493e522",
   "metadata": {},
   "outputs": [
    {
     "data": {
      "text/plain": [
       "array([1], dtype=int64)"
      ]
     },
     "execution_count": 88,
     "metadata": {},
     "output_type": "execute_result"
    }
   ],
   "source": [
    "lg_model.predict(yeni_veri)"
   ]
  },
  {
   "cell_type": "code",
   "execution_count": null,
   "id": "90cb6d8c-6341-4c0e-a5e6-66d1fe591ec6",
   "metadata": {},
   "outputs": [],
   "source": []
  },
  {
   "cell_type": "code",
   "execution_count": null,
   "id": "2b1fb848-c1c0-412f-906b-ca542ac53508",
   "metadata": {},
   "outputs": [],
   "source": []
  },
  {
   "cell_type": "code",
   "execution_count": null,
   "id": "f9e53ef0-1a8c-4cfb-9b8b-6a9702b04d47",
   "metadata": {},
   "outputs": [],
   "source": []
  },
  {
   "cell_type": "code",
   "execution_count": null,
   "id": "5279075c-643e-441a-992f-26402b5ebc9d",
   "metadata": {},
   "outputs": [],
   "source": []
  }
 ],
 "metadata": {
  "kernelspec": {
   "display_name": "Python 3",
   "language": "python",
   "name": "python3"
  },
  "language_info": {
   "codemirror_mode": {
    "name": "ipython",
    "version": 3
   },
   "file_extension": ".py",
   "mimetype": "text/x-python",
   "name": "python",
   "nbconvert_exporter": "python",
   "pygments_lexer": "ipython3",
   "version": "3.8.8"
  }
 },
 "nbformat": 4,
 "nbformat_minor": 5
}
