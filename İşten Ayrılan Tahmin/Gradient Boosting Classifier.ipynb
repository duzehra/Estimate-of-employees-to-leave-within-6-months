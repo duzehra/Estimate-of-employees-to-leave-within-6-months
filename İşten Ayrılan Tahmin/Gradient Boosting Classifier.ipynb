{
 "cells": [
  {
   "cell_type": "code",
   "execution_count": 4,
   "id": "82c95f8e",
   "metadata": {},
   "outputs": [],
   "source": [
    "import pandas as pd\n",
    "import numpy as np\n",
    "from sklearn.model_selection import train_test_split\n",
    "from sklearn.metrics import accuracy_score\n",
    "import sklearn.metrics as mt\n",
    "from sklearn.ensemble import GradientBoostingClassifier"
   ]
  },
  {
   "cell_type": "code",
   "execution_count": 5,
   "id": "b4ee9049",
   "metadata": {},
   "outputs": [
    {
     "data": {
      "text/html": [
       "<div>\n",
       "<style scoped>\n",
       "    .dataframe tbody tr th:only-of-type {\n",
       "        vertical-align: middle;\n",
       "    }\n",
       "\n",
       "    .dataframe tbody tr th {\n",
       "        vertical-align: top;\n",
       "    }\n",
       "\n",
       "    .dataframe thead th {\n",
       "        text-align: right;\n",
       "    }\n",
       "</style>\n",
       "<table border=\"1\" class=\"dataframe\">\n",
       "  <thead>\n",
       "    <tr style=\"text-align: right;\">\n",
       "      <th></th>\n",
       "      <th>Job</th>\n",
       "      <th>Joining Quarter</th>\n",
       "      <th>Location</th>\n",
       "      <th>Gender</th>\n",
       "      <th>Education</th>\n",
       "      <th>Age</th>\n",
       "      <th>&lt;6 months</th>\n",
       "      <th>Personel_ID</th>\n",
       "    </tr>\n",
       "  </thead>\n",
       "  <tbody>\n",
       "    <tr>\n",
       "      <th>0</th>\n",
       "      <td>MM</td>\n",
       "      <td>Q3</td>\n",
       "      <td>ISTANBUL</td>\n",
       "      <td>Male</td>\n",
       "      <td>High School</td>\n",
       "      <td>20-30</td>\n",
       "      <td>NO</td>\n",
       "      <td>1</td>\n",
       "    </tr>\n",
       "    <tr>\n",
       "      <th>1</th>\n",
       "      <td>SG</td>\n",
       "      <td>Q4</td>\n",
       "      <td>ISTANBUL</td>\n",
       "      <td>Male</td>\n",
       "      <td>Elementary</td>\n",
       "      <td>20-30</td>\n",
       "      <td>NO</td>\n",
       "      <td>2</td>\n",
       "    </tr>\n",
       "    <tr>\n",
       "      <th>2</th>\n",
       "      <td>SG</td>\n",
       "      <td>Q2</td>\n",
       "      <td>ISTANBUL</td>\n",
       "      <td>Male</td>\n",
       "      <td>Elementary</td>\n",
       "      <td>20-30</td>\n",
       "      <td>NO</td>\n",
       "      <td>3</td>\n",
       "    </tr>\n",
       "    <tr>\n",
       "      <th>3</th>\n",
       "      <td>SG</td>\n",
       "      <td>Q2</td>\n",
       "      <td>ISTANBUL</td>\n",
       "      <td>Female</td>\n",
       "      <td>Elementary</td>\n",
       "      <td>20-30</td>\n",
       "      <td>NO</td>\n",
       "      <td>4</td>\n",
       "    </tr>\n",
       "    <tr>\n",
       "      <th>4</th>\n",
       "      <td>SG</td>\n",
       "      <td>Q3</td>\n",
       "      <td>ISTANBUL</td>\n",
       "      <td>Male</td>\n",
       "      <td>Elementary</td>\n",
       "      <td>&lt;20</td>\n",
       "      <td>NO</td>\n",
       "      <td>5</td>\n",
       "    </tr>\n",
       "  </tbody>\n",
       "</table>\n",
       "</div>"
      ],
      "text/plain": [
       "  Job Joining Quarter  Location  Gender    Education    Age <6 months  \\\n",
       "0  MM              Q3  ISTANBUL    Male  High School  20-30        NO   \n",
       "1  SG              Q4  ISTANBUL    Male   Elementary  20-30        NO   \n",
       "2  SG              Q2  ISTANBUL    Male   Elementary  20-30        NO   \n",
       "3  SG              Q2  ISTANBUL  Female   Elementary  20-30        NO   \n",
       "4  SG              Q3  ISTANBUL    Male   Elementary    <20        NO   \n",
       "\n",
       "   Personel_ID  \n",
       "0            1  \n",
       "1            2  \n",
       "2            3  \n",
       "3            4  \n",
       "4            5  "
      ]
     },
     "execution_count": 5,
     "metadata": {},
     "output_type": "execute_result"
    }
   ],
   "source": [
    "df = pd.read_excel(\"C:/Users/Zehra/Desktop/powerbi/İnsan Kaynakları/AyrılanDatası.xlsx\")\n",
    "df.head(5)"
   ]
  },
  {
   "cell_type": "code",
   "execution_count": 6,
   "id": "12c0edf3",
   "metadata": {},
   "outputs": [],
   "source": [
    "df=df.rename(columns = {'Joining Quarter':'Joining_Quarter'})\n",
    "df=df.rename(columns = {'<6 months':'6_months'})\n",
    "\n",
    "#Gender\n",
    "df[\"Gender\"] = df[\"Gender\"].replace(\"Male\", 1)\n",
    "df[\"Gender\"] = df[\"Gender\"].replace(\"Female\", 2)\n",
    "\n",
    "#6_months\n",
    "df[\"6_months\"] = df[\"6_months\"].replace(\"YES\", 1)\n",
    "df[\"6_months\"] = df[\"6_months\"].replace(\"NO\", 2)\n",
    "\n",
    "#Joining_Quarter\n",
    "df[\"Joining_Quarter\"] = df[\"Joining_Quarter\"].replace(\"Q1\", 1)\n",
    "df[\"Joining_Quarter\"] = df[\"Joining_Quarter\"].replace(\"Q2\", 2)\n",
    "df[\"Joining_Quarter\"] = df[\"Joining_Quarter\"].replace(\"Q3\", 1)\n",
    "df[\"Joining_Quarter\"] = df[\"Joining_Quarter\"].replace(\"Q4\", 2)\n",
    "\n",
    "#Job\n",
    "df[\"Job\"] = df[\"Job\"].replace(\"MM\", 1)\n",
    "df[\"Job\"] = df[\"Job\"].replace(\"SG\", 2)\n",
    "df[\"Job\"] = df[\"Job\"].replace(\"GD\", 3)\n",
    "df[\"Job\"] = df[\"Job\"].replace(\"PART-SG\", 4)\n",
    "df[\"Job\"] = df[\"Job\"].replace(\"MMY\", 5)\n",
    "df[\"Job\"] = df[\"Job\"].replace(\"SUP\", 6)\n",
    "\n",
    "#Location\n",
    "df[\"Location\"] = df[\"Location\"].replace(\"ISTANBUL\", 1)\n",
    "df[\"Location\"] = df[\"Location\"].replace(\"Others\", 2)\n",
    "\n",
    "\n",
    "#Education\n",
    "df[\"Education\"] = df[\"Education\"].replace(\"2-Year University\", 1)\n",
    "df[\"Education\"] = df[\"Education\"].replace(\"4-Year University\", 2)\n",
    "df[\"Education\"] = df[\"Education\"].replace(\"Elementary\", 3)\n",
    "df[\"Education\"] = df[\"Education\"].replace(\"High School\", 4)\n",
    "\n",
    "#Age\n",
    "df[\"Age\"] = df[\"Age\"].replace(\"<20\", 1)\n",
    "df[\"Age\"] = df[\"Age\"].replace(\"20-30\", 2)\n",
    "df[\"Age\"] = df[\"Age\"].replace(\"30-40\", 3)\n",
    "df[\"Age\"] = df[\"Age\"].replace(\">40\", 4)"
   ]
  },
  {
   "cell_type": "code",
   "execution_count": null,
   "id": "8a313e18",
   "metadata": {},
   "outputs": [],
   "source": []
  },
  {
   "cell_type": "code",
   "execution_count": null,
   "id": "b18d7e0a",
   "metadata": {},
   "outputs": [],
   "source": [
    "#Gradient Boosting Classifier"
   ]
  },
  {
   "cell_type": "code",
   "execution_count": 7,
   "id": "7edc047d",
   "metadata": {},
   "outputs": [],
   "source": [
    "X = df.drop(\"6_months\", axis=1)\n",
    "y = df[\"6_months\"]"
   ]
  },
  {
   "cell_type": "code",
   "execution_count": 8,
   "id": "029b64ca",
   "metadata": {},
   "outputs": [],
   "source": [
    "X_train, X_test, y_train, y_test = train_test_split(X, y, test_size = 0.30, random_state = 0)"
   ]
  },
  {
   "cell_type": "code",
   "execution_count": 9,
   "id": "2243b972",
   "metadata": {},
   "outputs": [
    {
     "data": {
      "text/plain": [
       "GradientBoostingClassifier()"
      ]
     },
     "execution_count": 9,
     "metadata": {},
     "output_type": "execute_result"
    }
   ],
   "source": [
    "gb_model = GradientBoostingClassifier()\n",
    "gb_model.fit(X_train, y_train)"
   ]
  },
  {
   "cell_type": "code",
   "execution_count": 10,
   "id": "432ec592",
   "metadata": {},
   "outputs": [],
   "source": [
    "y_pred = gb_model.predict(X_test)"
   ]
  },
  {
   "cell_type": "code",
   "execution_count": 11,
   "id": "d3513c0d",
   "metadata": {},
   "outputs": [
    {
     "name": "stdout",
     "output_type": "stream",
     "text": [
      "0.6381578947368421\n"
     ]
    }
   ],
   "source": [
    "print(mt.accuracy_score(y_test, y_pred))"
   ]
  },
  {
   "cell_type": "code",
   "execution_count": null,
   "id": "0244884a",
   "metadata": {},
   "outputs": [],
   "source": []
  }
 ],
 "metadata": {
  "kernelspec": {
   "display_name": "Python 3",
   "language": "python",
   "name": "python3"
  },
  "language_info": {
   "codemirror_mode": {
    "name": "ipython",
    "version": 3
   },
   "file_extension": ".py",
   "mimetype": "text/x-python",
   "name": "python",
   "nbconvert_exporter": "python",
   "pygments_lexer": "ipython3",
   "version": "3.8.8"
  }
 },
 "nbformat": 4,
 "nbformat_minor": 5
}
