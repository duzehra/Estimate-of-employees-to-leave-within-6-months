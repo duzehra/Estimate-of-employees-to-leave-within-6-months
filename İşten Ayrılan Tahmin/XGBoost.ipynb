{
 "cells": [
  {
   "cell_type": "code",
   "execution_count": 11,
   "id": "8dbb2714",
   "metadata": {},
   "outputs": [],
   "source": [
    "import pandas as pd\n",
    "import numpy as np\n",
    "from sklearn.model_selection import train_test_split, GridSearchCV\n",
    "from xgboost import XGBClassifier\n",
    "from sklearn.metrics import accuracy_score\n",
    "import sklearn.metrics as mt"
   ]
  },
  {
   "cell_type": "code",
   "execution_count": 2,
   "id": "03126155",
   "metadata": {},
   "outputs": [
    {
     "data": {
      "text/html": [
       "<div>\n",
       "<style scoped>\n",
       "    .dataframe tbody tr th:only-of-type {\n",
       "        vertical-align: middle;\n",
       "    }\n",
       "\n",
       "    .dataframe tbody tr th {\n",
       "        vertical-align: top;\n",
       "    }\n",
       "\n",
       "    .dataframe thead th {\n",
       "        text-align: right;\n",
       "    }\n",
       "</style>\n",
       "<table border=\"1\" class=\"dataframe\">\n",
       "  <thead>\n",
       "    <tr style=\"text-align: right;\">\n",
       "      <th></th>\n",
       "      <th>Job</th>\n",
       "      <th>Joining Quarter</th>\n",
       "      <th>Location</th>\n",
       "      <th>Gender</th>\n",
       "      <th>Education</th>\n",
       "      <th>Age</th>\n",
       "      <th>&lt;6 months</th>\n",
       "      <th>Personel_ID</th>\n",
       "    </tr>\n",
       "  </thead>\n",
       "  <tbody>\n",
       "    <tr>\n",
       "      <th>0</th>\n",
       "      <td>MM</td>\n",
       "      <td>Q3</td>\n",
       "      <td>ISTANBUL</td>\n",
       "      <td>Male</td>\n",
       "      <td>High School</td>\n",
       "      <td>20-30</td>\n",
       "      <td>NO</td>\n",
       "      <td>1</td>\n",
       "    </tr>\n",
       "    <tr>\n",
       "      <th>1</th>\n",
       "      <td>SG</td>\n",
       "      <td>Q4</td>\n",
       "      <td>ISTANBUL</td>\n",
       "      <td>Male</td>\n",
       "      <td>Elementary</td>\n",
       "      <td>20-30</td>\n",
       "      <td>NO</td>\n",
       "      <td>2</td>\n",
       "    </tr>\n",
       "    <tr>\n",
       "      <th>2</th>\n",
       "      <td>SG</td>\n",
       "      <td>Q2</td>\n",
       "      <td>ISTANBUL</td>\n",
       "      <td>Male</td>\n",
       "      <td>Elementary</td>\n",
       "      <td>20-30</td>\n",
       "      <td>NO</td>\n",
       "      <td>3</td>\n",
       "    </tr>\n",
       "    <tr>\n",
       "      <th>3</th>\n",
       "      <td>SG</td>\n",
       "      <td>Q2</td>\n",
       "      <td>ISTANBUL</td>\n",
       "      <td>Female</td>\n",
       "      <td>Elementary</td>\n",
       "      <td>20-30</td>\n",
       "      <td>NO</td>\n",
       "      <td>4</td>\n",
       "    </tr>\n",
       "    <tr>\n",
       "      <th>4</th>\n",
       "      <td>SG</td>\n",
       "      <td>Q3</td>\n",
       "      <td>ISTANBUL</td>\n",
       "      <td>Male</td>\n",
       "      <td>Elementary</td>\n",
       "      <td>&lt;20</td>\n",
       "      <td>NO</td>\n",
       "      <td>5</td>\n",
       "    </tr>\n",
       "  </tbody>\n",
       "</table>\n",
       "</div>"
      ],
      "text/plain": [
       "  Job Joining Quarter  Location  Gender    Education    Age <6 months  \\\n",
       "0  MM              Q3  ISTANBUL    Male  High School  20-30        NO   \n",
       "1  SG              Q4  ISTANBUL    Male   Elementary  20-30        NO   \n",
       "2  SG              Q2  ISTANBUL    Male   Elementary  20-30        NO   \n",
       "3  SG              Q2  ISTANBUL  Female   Elementary  20-30        NO   \n",
       "4  SG              Q3  ISTANBUL    Male   Elementary    <20        NO   \n",
       "\n",
       "   Personel_ID  \n",
       "0            1  \n",
       "1            2  \n",
       "2            3  \n",
       "3            4  \n",
       "4            5  "
      ]
     },
     "execution_count": 2,
     "metadata": {},
     "output_type": "execute_result"
    }
   ],
   "source": [
    "df = pd.read_excel(\"C:/Users/Zehra/Desktop/powerbi/İnsan Kaynakları/AyrılanDatası.xlsx\")\n",
    "df.head(5)"
   ]
  },
  {
   "cell_type": "code",
   "execution_count": 3,
   "id": "64e5a5ea",
   "metadata": {},
   "outputs": [],
   "source": [
    "df=df.rename(columns = {'Joining Quarter':'Joining_Quarter'})\n",
    "df=df.rename(columns = {'<6 months':'6_months'})\n",
    "\n",
    "#Gender\n",
    "df[\"Gender\"] = df[\"Gender\"].replace(\"Male\", 1)\n",
    "df[\"Gender\"] = df[\"Gender\"].replace(\"Female\", 2)\n",
    "\n",
    "#6_months\n",
    "df[\"6_months\"] = df[\"6_months\"].replace(\"YES\", 1)\n",
    "df[\"6_months\"] = df[\"6_months\"].replace(\"NO\", 2)\n",
    "\n",
    "#Joining_Quarter\n",
    "df[\"Joining_Quarter\"] = df[\"Joining_Quarter\"].replace(\"Q1\", 1)\n",
    "df[\"Joining_Quarter\"] = df[\"Joining_Quarter\"].replace(\"Q2\", 2)\n",
    "df[\"Joining_Quarter\"] = df[\"Joining_Quarter\"].replace(\"Q3\", 1)\n",
    "df[\"Joining_Quarter\"] = df[\"Joining_Quarter\"].replace(\"Q4\", 2)\n",
    "\n",
    "#Job\n",
    "df[\"Job\"] = df[\"Job\"].replace(\"MM\", 1)\n",
    "df[\"Job\"] = df[\"Job\"].replace(\"SG\", 2)\n",
    "df[\"Job\"] = df[\"Job\"].replace(\"GD\", 3)\n",
    "df[\"Job\"] = df[\"Job\"].replace(\"PART-SG\", 4)\n",
    "df[\"Job\"] = df[\"Job\"].replace(\"MMY\", 5)\n",
    "df[\"Job\"] = df[\"Job\"].replace(\"SUP\", 6)\n",
    "\n",
    "#Location\n",
    "df[\"Location\"] = df[\"Location\"].replace(\"ISTANBUL\", 1)\n",
    "df[\"Location\"] = df[\"Location\"].replace(\"Others\", 2)\n",
    "\n",
    "\n",
    "#Education\n",
    "df[\"Education\"] = df[\"Education\"].replace(\"2-Year University\", 1)\n",
    "df[\"Education\"] = df[\"Education\"].replace(\"4-Year University\", 2)\n",
    "df[\"Education\"] = df[\"Education\"].replace(\"Elementary\", 3)\n",
    "df[\"Education\"] = df[\"Education\"].replace(\"High School\", 4)\n",
    "\n",
    "#Age\n",
    "df[\"Age\"] = df[\"Age\"].replace(\"<20\", 1)\n",
    "df[\"Age\"] = df[\"Age\"].replace(\"20-30\", 2)\n",
    "df[\"Age\"] = df[\"Age\"].replace(\"30-40\", 3)\n",
    "df[\"Age\"] = df[\"Age\"].replace(\">40\", 4)"
   ]
  },
  {
   "cell_type": "code",
   "execution_count": null,
   "id": "27826ea3",
   "metadata": {},
   "outputs": [],
   "source": []
  },
  {
   "cell_type": "code",
   "execution_count": null,
   "id": "da67a921",
   "metadata": {},
   "outputs": [],
   "source": [
    "#XGBoost"
   ]
  },
  {
   "cell_type": "code",
   "execution_count": 4,
   "id": "ba157023",
   "metadata": {},
   "outputs": [],
   "source": [
    "X = df.drop(\"6_months\", axis=1)\n",
    "y = df[\"6_months\"]"
   ]
  },
  {
   "cell_type": "code",
   "execution_count": 5,
   "id": "b4165302",
   "metadata": {},
   "outputs": [],
   "source": [
    "X_train, X_test, y_train, y_test = train_test_split(X, y, test_size = 0.30, random_state = 0)"
   ]
  },
  {
   "cell_type": "code",
   "execution_count": 6,
   "id": "a869f0b6",
   "metadata": {
    "collapsed": true
   },
   "outputs": [
    {
     "name": "stderr",
     "output_type": "stream",
     "text": [
      "C:\\Users\\Zehra\\anaconda3\\lib\\site-packages\\xgboost\\sklearn.py:1146: UserWarning: The use of label encoder in XGBClassifier is deprecated and will be removed in a future release. To remove this warning, do the following: 1) Pass option use_label_encoder=False when constructing XGBClassifier object; and 2) Encode your labels (y) as integers starting with 0, i.e. 0, 1, 2, ..., [num_class - 1].\n",
      "  warnings.warn(label_encoder_deprecation_msg, UserWarning)\n"
     ]
    },
    {
     "name": "stdout",
     "output_type": "stream",
     "text": [
      "[19:59:24] WARNING: C:/Users/Administrator/workspace/xgboost-win64_release_1.4.0/src/learner.cc:1095: Starting in XGBoost 1.3.0, the default evaluation metric used with the objective 'binary:logistic' was changed from 'error' to 'logloss'. Explicitly set eval_metric if you'd like to restore the old behavior.\n"
     ]
    },
    {
     "data": {
      "text/plain": [
       "XGBClassifier(base_score=0.5, booster='gbtree', colsample_bylevel=1,\n",
       "              colsample_bynode=1, colsample_bytree=1, gamma=0, gpu_id=-1,\n",
       "              importance_type='gain', interaction_constraints='',\n",
       "              learning_rate=0.300000012, max_delta_step=0, max_depth=6,\n",
       "              min_child_weight=1, missing=nan, monotone_constraints='()',\n",
       "              n_estimators=100, n_jobs=4, num_parallel_tree=1, random_state=0,\n",
       "              reg_alpha=0, reg_lambda=1, scale_pos_weight=1, subsample=1,\n",
       "              tree_method='exact', validate_parameters=1, verbosity=None)"
      ]
     },
     "execution_count": 6,
     "metadata": {},
     "output_type": "execute_result"
    }
   ],
   "source": [
    "xgboost_model = XGBClassifier()\n",
    "xgboost_model.fit(X_train, y_train)"
   ]
  },
  {
   "cell_type": "code",
   "execution_count": 7,
   "id": "397dead8",
   "metadata": {},
   "outputs": [],
   "source": [
    "y_pred = xgboost_model.predict(X_test)"
   ]
  },
  {
   "cell_type": "code",
   "execution_count": 8,
   "id": "fcd8b12b",
   "metadata": {
    "collapsed": true
   },
   "outputs": [
    {
     "data": {
      "text/plain": [
       "array([2, 2, 1, 2, 2, 2, 2, 2, 2, 2, 2, 2, 2, 1, 1, 2, 2, 2, 2, 2, 1, 2,\n",
       "       1, 1, 1, 2, 2, 2, 2, 1, 2, 1, 2, 2, 2, 1, 1, 2, 2, 2, 2, 2, 2, 2,\n",
       "       2, 2, 1, 2, 2, 1, 2, 2, 1, 2, 2, 1, 2, 1, 1, 1, 1, 2, 2, 1, 1, 2,\n",
       "       2, 2, 1, 2, 1, 2, 1, 1, 2, 1, 2, 2, 2, 2, 2, 1, 2, 2, 2, 2, 2, 2,\n",
       "       2, 2, 1, 1, 2, 1, 1, 1, 2, 2, 1, 2, 2, 1, 2, 2, 2, 2, 1, 1, 2, 1,\n",
       "       2, 1, 1, 2, 2, 2, 2, 2, 2, 2, 1, 2, 1, 1, 1, 2, 1, 1, 2, 1, 1, 2,\n",
       "       2, 2, 2, 2, 1, 1, 1, 2, 1, 2, 2, 2, 2, 2, 2, 2, 1, 2, 1, 2, 1, 2,\n",
       "       2, 1, 1, 1, 2, 2, 2, 2, 2, 2, 2, 2, 2, 2, 2, 2, 1, 2, 2, 1, 1, 1,\n",
       "       2, 1, 2, 1, 2, 1, 2, 1, 1, 1, 2, 2, 2, 2, 2, 2, 2, 1, 2, 2, 2, 2,\n",
       "       2, 2, 1, 2, 2, 2, 1, 1, 1, 2, 2, 1, 2, 1, 2, 1, 2, 2, 2, 2, 2, 2,\n",
       "       2, 2, 1, 2, 2, 2, 1, 2, 2, 2, 2, 2, 2, 1, 1, 1, 1, 2, 2, 1, 2, 2,\n",
       "       1, 2, 2, 2, 2, 2, 2, 1, 2, 2, 1, 1, 1, 2, 1, 1, 2, 2, 2, 2, 1, 1,\n",
       "       2, 2, 2, 2, 2, 2, 2, 2, 2, 2, 1, 2, 2, 2, 1, 2, 2, 1, 2, 1, 1, 2,\n",
       "       2, 1, 2, 1, 1, 2, 1, 2, 1, 2, 2, 2, 2, 1, 2, 1, 2, 2, 2, 1, 1, 2,\n",
       "       2, 1, 1, 1, 2, 1, 2, 1, 2, 2, 2, 1, 2, 1, 2, 2, 2, 2, 1, 1, 2, 2,\n",
       "       2, 1, 2, 2, 1, 2, 2, 2, 2, 2, 2, 1, 2, 1, 1, 2, 1, 1, 2, 1, 2, 2,\n",
       "       1, 1, 2, 1, 2, 2, 2, 2, 2, 2, 2, 2, 2, 1, 1, 2, 2, 1, 2, 2, 2, 1,\n",
       "       1, 1, 2, 2, 1, 1, 2, 1, 2, 1, 1, 1, 2, 2, 2, 2, 2, 2, 1, 2, 2, 2,\n",
       "       2, 1, 2, 1, 2, 2, 2, 2, 1, 2, 2, 2, 2, 2, 2, 2, 2, 2, 1, 1, 2, 2,\n",
       "       1, 2, 2, 1, 2, 2, 1, 1, 1, 1, 2, 1, 2, 2, 1, 2, 2, 2, 2, 2, 1, 2,\n",
       "       2, 2, 2, 1, 2, 2, 2, 1, 2, 2, 2, 1, 2, 2, 1, 2, 1, 1, 1, 1, 2, 2,\n",
       "       1, 2, 2, 2, 2, 1, 2, 2, 1, 2, 2, 2, 2, 1, 2, 1, 1, 1, 1, 2, 1, 2,\n",
       "       2, 2, 1, 1, 2, 2, 1, 2, 1, 1, 1, 1, 2, 2, 2, 2, 2, 2, 2, 2, 2, 2,\n",
       "       2, 2, 2, 2, 2, 2, 2, 2, 2, 2, 2, 2, 1, 2, 2, 2, 2, 2, 1, 2, 2, 2,\n",
       "       2, 2, 1, 2, 2, 2, 2, 1, 2, 2, 1, 2, 2, 2, 2, 2, 2, 2, 1, 2, 2, 1,\n",
       "       2, 1, 2, 2, 1, 2, 1, 2, 1, 2, 2, 2, 2, 2, 1, 2, 1, 1, 1, 2, 1, 2,\n",
       "       2, 2, 1, 1, 2, 2, 2, 1, 2, 1, 1, 2, 2, 2, 1, 2, 1, 2, 2, 1, 1, 2,\n",
       "       1, 2, 1, 1, 1, 2, 2, 1, 2, 2, 1, 2, 2, 2], dtype=int64)"
      ]
     },
     "execution_count": 8,
     "metadata": {},
     "output_type": "execute_result"
    }
   ],
   "source": [
    "y_pred"
   ]
  },
  {
   "cell_type": "code",
   "execution_count": 12,
   "id": "5925c482",
   "metadata": {},
   "outputs": [
    {
     "name": "stdout",
     "output_type": "stream",
     "text": [
      "0.6167763157894737\n"
     ]
    }
   ],
   "source": [
    "print(mt.accuracy_score(y_test, y_pred))"
   ]
  },
  {
   "cell_type": "code",
   "execution_count": null,
   "id": "d0afd2c3",
   "metadata": {},
   "outputs": [],
   "source": []
  }
 ],
 "metadata": {
  "kernelspec": {
   "display_name": "Python 3",
   "language": "python",
   "name": "python3"
  },
  "language_info": {
   "codemirror_mode": {
    "name": "ipython",
    "version": 3
   },
   "file_extension": ".py",
   "mimetype": "text/x-python",
   "name": "python",
   "nbconvert_exporter": "python",
   "pygments_lexer": "ipython3",
   "version": "3.8.8"
  }
 },
 "nbformat": 4,
 "nbformat_minor": 5
}
